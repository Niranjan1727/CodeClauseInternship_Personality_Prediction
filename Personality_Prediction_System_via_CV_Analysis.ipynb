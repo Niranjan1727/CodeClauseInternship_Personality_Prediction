{
  "nbformat": 4,
  "nbformat_minor": 0,
  "metadata": {
    "colab": {
      "provenance": []
    },
    "kernelspec": {
      "name": "python3",
      "display_name": "Python 3"
    },
    "language_info": {
      "name": "python"
    }
  },
  "cells": [
    {
      "cell_type": "code",
      "execution_count": 2,
      "metadata": {
        "colab": {
          "base_uri": "https://localhost:8080/"
        },
        "id": "emo3CWY1bD-C",
        "outputId": "80452c04-c7ec-4e5f-f405-bf4d7525d6f2"
      },
      "outputs": [
        {
          "output_type": "stream",
          "name": "stdout",
          "text": [
            "Mean Squared Error: 0.25\n",
            "Predicted personality trait score: 4.00\n"
          ]
        }
      ],
      "source": [
        "import pandas as pd\n",
        "from sklearn.model_selection import train_test_split\n",
        "from sklearn.linear_model import LinearRegression\n",
        "from sklearn.metrics import mean_squared_error\n",
        "\n",
        "# Sample mock dataset\n",
        "data = {\n",
        "    'cv_text': [\"I am a highly motivated individual with a strong work ethic...\",\n",
        "                \"During my time at XYZ company, I managed a team of...\",\n",
        "                \"I have a background in computer science and have worked on...\",\n",
        "                ],\n",
        "    'personality_trait': [4.5, 3.2, 4.8]  # Mock personality scores (should match the number of CV texts)\n",
        "}\n",
        "\n",
        "# Create a DataFrame\n",
        "df = pd.DataFrame(data)\n",
        "\n",
        "# Feature extraction (mock implementation)\n",
        "# In a real-world scenario, you would use NLP techniques for this step\n",
        "df['feature'] = df['cv_text'].apply(lambda x: len(x.split()))\n",
        "\n",
        "# Split data into features (X) and target (y)\n",
        "X = df[['feature']].values\n",
        "y = df['personality_trait'].values\n",
        "\n",
        "# Split the data into training and testing sets\n",
        "X_train, X_test, y_train, y_test = train_test_split(X, y, test_size=0.2, random_state=42)\n",
        "\n",
        "# Create and train the linear regression model\n",
        "model = LinearRegression()\n",
        "model.fit(X_train, y_train)\n",
        "\n",
        "# Make predictions on the test set\n",
        "y_pred = model.predict(X_test)\n",
        "\n",
        "# Calculate Mean Squared Error (MSE) to evaluate the model\n",
        "mse = mean_squared_error(y_test, y_pred)\n",
        "print(f\"Mean Squared Error: {mse:.2f}\")\n",
        "\n",
        "# Input new CV features to predict personality trait\n",
        "new_cv_feature = [[150]]  # Replace with your input data\n",
        "predicted_personality = model.predict(new_cv_feature)\n",
        "print(f\"Predicted personality trait score: {predicted_personality[0]:.2f}\")\n"
      ]
    }
  ]
}